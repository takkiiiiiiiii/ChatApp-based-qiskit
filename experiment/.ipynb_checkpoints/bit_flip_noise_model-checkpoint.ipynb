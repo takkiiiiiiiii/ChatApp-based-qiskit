{
 "cells": [
  {
   "cell_type": "code",
   "execution_count": null,
   "metadata": {},
   "outputs": [
    {
     "ename": "",
     "evalue": "",
     "output_type": "error",
     "traceback": [
      "\u001b[1;31mFailed to start Jupyter in the environment 'Python 3.9.18 ('qkd_ibm_qiskit_env') (~/anaconda3/envs/qkd_ibm_qiskit_env/bin/python)'. \n",
      "ImportError: cannot import name 'notebookapp' from 'notebook' (/Users/yudai/anaconda3/envs/qkd_ibm_qiskit_env/lib/python3.9/site-packages/notebook/__init__.py) \n",
      "View Jupyter <a href='command:jupyter.viewOutput'>log</a> for further details."
     ]
    }
   ],
   "source": [
    "from qiskit import QuantumCircuit, execute\n",
    "from qiskit_aer import Aer\n",
    "from qiskit.tools.visualization import plot_histogram\n",
    "from qiskit_aer.noise import (NoiseModel, QuantumError, pauli_error, depolarizing_error)\n",
    "\n",
    "backend = Aer.get_backend('qasm_simulator')\n",
    "qc = QuantumCircuit(4)\n",
    "qc.measure_all()\n",
    "\n",
    "p_meas = 0.01\n",
    "\n",
    "error_meas = pauli_error([('X', p_meas), ('I', 1 - p_meas)])\n",
    "\n",
    "noise_model = NoiseModel()\n",
    "noise_model.add_all_qubit_quantum_error(error_meas, \"measure\")\n",
    "\n",
    "result = execute(qc,backend,shots=1000, noise_model=noise_model).result() \n",
    "# result = execute(qc,backend,shots=1000).result() \n",
    "\n",
    "counts = result.get_counts(0)\n",
    "plot_histogram(counts)\n",
    "bits = list(result.get_counts(0).keys())[0]\n",
    "\n",
    "print(bits)\n",
    "print(noise_model)\n",
    "# print(counts)"
   ]
  }
 ],
 "metadata": {
  "interpreter": {
   "hash": "9736c85f0e5d682d30a0b8b41bb337364a0ec430f6aa01161be3abe40501172f"
  },
  "kernelspec": {
   "display_name": "Python 3.9.18 ('qkd_ibm_qiskit_env')",
   "language": "python",
   "name": "python3"
  },
  "language_info": {
   "name": "python",
   "version": "3.9.18"
  },
  "orig_nbformat": 4
 },
 "nbformat": 4,
 "nbformat_minor": 2
}
