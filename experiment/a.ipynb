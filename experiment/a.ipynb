{
 "cells": [
  {
   "cell_type": "code",
   "execution_count": null,
   "metadata": {},
   "outputs": [
    {
     "ename": "",
     "evalue": "",
     "output_type": "error",
     "traceback": [
      "\u001b[1;31mFailed to start Jupyter in the environment 'Python 3.9.18 ('qkd_ibm_qiskit_env') (~/anaconda3/envs/qkd_ibm_qiskit_env/bin/python)'. \n",
      "ImportError: cannot import name 'notebookapp' from 'notebook' (/Users/yudai/anaconda3/envs/qkd_ibm_qiskit_env/lib/python3.9/site-packages/notebook/__init__.py) \n",
      "View Jupyter <a href='command:jupyter.viewOutput'>log</a> for further details."
     ]
    }
   ],
   "source": [
    "\n",
    "print(\"aaa\")"
   ]
  }
 ],
 "metadata": {
  "interpreter": {
   "hash": "9736c85f0e5d682d30a0b8b41bb337364a0ec430f6aa01161be3abe40501172f"
  },
  "kernelspec": {
   "display_name": "Python 3.9.18 ('qkd_ibm_qiskit_env')",
   "language": "python",
   "name": "python3"
  },
  "language_info": {
   "name": "python",
   "version": "3.9.18"
  },
  "orig_nbformat": 4
 },
 "nbformat": 4,
 "nbformat_minor": 2
}
